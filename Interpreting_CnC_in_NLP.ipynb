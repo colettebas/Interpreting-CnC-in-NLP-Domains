{
 "cells": [
  {
   "cell_type": "markdown",
   "id": "6c63f9e4",
   "metadata": {},
   "source": [
    "# Interpreting Correct-n-Contrast in NLP\n",
    "\n",
    "This demo will run through several (simplified) processes to load in pretrained models and SHAP values for Correct-n-Contrast, as well as a control ERM model\n",
    "\n",
    "*Be sure to follow the README.md before running these cells*"
   ]
  },
  {
   "cell_type": "code",
   "execution_count": 22,
   "id": "8531b5db",
   "metadata": {
    "scrolled": true
   },
   "outputs": [
    {
     "name": "stderr",
     "output_type": "stream",
     "text": [
      "Some weights of the model checkpoint at bert-base-uncased were not used when initializing BertForSequenceClassification: ['cls.predictions.transform.dense.weight', 'cls.seq_relationship.weight', 'cls.predictions.transform.LayerNorm.weight', 'cls.predictions.bias', 'cls.seq_relationship.bias', 'cls.predictions.transform.LayerNorm.bias', 'cls.predictions.decoder.weight', 'cls.predictions.transform.dense.bias']\n",
      "- This IS expected if you are initializing BertForSequenceClassification from the checkpoint of a model trained on another task or with another architecture (e.g. initializing a BertForSequenceClassification model from a BertForPreTraining model).\n",
      "- This IS NOT expected if you are initializing BertForSequenceClassification from the checkpoint of a model that you expect to be exactly identical (initializing a BertForSequenceClassification model from a BertForSequenceClassification model).\n",
      "Some weights of BertForSequenceClassification were not initialized from the model checkpoint at bert-base-uncased and are newly initialized: ['classifier.weight', 'classifier.bias']\n",
      "You should probably TRAIN this model on a down-stream task to be able to use it for predictions and inference.\n"
     ]
    },
    {
     "name": "stdout",
     "output_type": "stream",
     "text": [
      "log.missing_keys: []\n"
     ]
    },
    {
     "name": "stderr",
     "output_type": "stream",
     "text": [
      "Some weights of the model checkpoint at bert-base-uncased were not used when initializing BertForSequenceClassification: ['cls.predictions.transform.dense.weight', 'cls.seq_relationship.weight', 'cls.predictions.transform.LayerNorm.weight', 'cls.predictions.bias', 'cls.seq_relationship.bias', 'cls.predictions.transform.LayerNorm.bias', 'cls.predictions.decoder.weight', 'cls.predictions.transform.dense.bias']\n",
      "- This IS expected if you are initializing BertForSequenceClassification from the checkpoint of a model trained on another task or with another architecture (e.g. initializing a BertForSequenceClassification model from a BertForPreTraining model).\n",
      "- This IS NOT expected if you are initializing BertForSequenceClassification from the checkpoint of a model that you expect to be exactly identical (initializing a BertForSequenceClassification model from a BertForSequenceClassification model).\n",
      "Some weights of BertForSequenceClassification were not initialized from the model checkpoint at bert-base-uncased and are newly initialized: ['classifier.weight', 'classifier.bias']\n",
      "You should probably TRAIN this model on a down-stream task to be able to use it for predictions and inference.\n"
     ]
    },
    {
     "name": "stdout",
     "output_type": "stream",
     "text": [
      "log.missing_keys: []\n"
     ]
    }
   ],
   "source": [
    "# Load in a class for loading pretrained models from the 'data' folder\n",
    "from utils import load_models as lm\n",
    "\n",
    "cncLoader = lm.ModelLoader('data/civilcomments_cnc_pretrained.pth.tar')\n",
    "ermLoader = lm.ModelLoader('data/civilcomments_erm_early.pth.tar')"
   ]
  },
  {
   "cell_type": "code",
   "execution_count": 19,
   "id": "b077735f",
   "metadata": {},
   "outputs": [],
   "source": [
    "# Load in a dataset loader to read in the CivilComments dataset\n",
    "from utils import load_civilcomments as lcc\n",
    "\n",
    "dataset = lcc.CivilCommentsLoader('data/all_data_with_identities.csv')"
   ]
  },
  {
   "cell_type": "code",
   "execution_count": 23,
   "id": "826acf6c",
   "metadata": {},
   "outputs": [
    {
     "ename": "SyntaxError",
     "evalue": "unexpected EOF while parsing (<unknown>, line 1)",
     "output_type": "error",
     "traceback": [
      "Traceback \u001b[1;36m(most recent call last)\u001b[0m:\n",
      "  File \u001b[0;32m\"C:\\Users\\Connor\\anaconda3\\lib\\site-packages\\IPython\\core\\interactiveshell.py\"\u001b[0m, line \u001b[0;32m3444\u001b[0m, in \u001b[0;35mrun_code\u001b[0m\n    exec(code_obj, self.user_global_ns, self.user_ns)\n",
      "  File \u001b[0;32m\"C:\\Users\\Connor\\AppData\\Local\\Temp/ipykernel_1352/1738976424.py\"\u001b[0m, line \u001b[0;32m5\u001b[0m, in \u001b[0;35m<module>\u001b[0m\n    cncSHAP = lsv.SHAPLoader('data/cnc_shap_values.txt', 'data/cnc_shap_data.txt')\n",
      "  File \u001b[0;32m\"C:\\Users\\Connor\\Desktop\\CS 690F\\Interpreting-CnC-in-NLP-Domains\\utils\\load_shap_values.py\"\u001b[0m, line \u001b[0;32m7\u001b[0m, in \u001b[0;35m__init__\u001b[0m\n    self.SHAP_values = self.convert_shap_files(input_values_filename, input_data_filename)\n",
      "  File \u001b[0;32m\"C:\\Users\\Connor\\Desktop\\CS 690F\\Interpreting-CnC-in-NLP-Domains\\utils\\load_shap_values.py\"\u001b[0m, line \u001b[0;32m77\u001b[0m, in \u001b[0;35mconvert_shap_files\u001b[0m\n    tokens = self.decode_tokens(tokens_file)\n",
      "  File \u001b[0;32m\"C:\\Users\\Connor\\Desktop\\CS 690F\\Interpreting-CnC-in-NLP-Domains\\utils\\load_shap_values.py\"\u001b[0m, line \u001b[0;32m20\u001b[0m, in \u001b[0;35mdecode_tokens\u001b[0m\n    tokens_list = tokens_list + literal_eval(tokens[i])[0]\n",
      "  File \u001b[0;32m\"C:\\Users\\Connor\\anaconda3\\lib\\ast.py\"\u001b[0m, line \u001b[0;32m62\u001b[0m, in \u001b[0;35mliteral_eval\u001b[0m\n    node_or_string = parse(node_or_string, mode='eval')\n",
      "\u001b[1;36m  File \u001b[1;32m\"C:\\Users\\Connor\\anaconda3\\lib\\ast.py\"\u001b[1;36m, line \u001b[1;32m50\u001b[1;36m, in \u001b[1;35mparse\u001b[1;36m\u001b[0m\n\u001b[1;33m    return compile(source, filename, mode, flags,\u001b[0m\n",
      "\u001b[1;36m  File \u001b[1;32m\"<unknown>\"\u001b[1;36m, line \u001b[1;32m1\u001b[0m\n\u001b[1;33m    [[-3.70207531e-06,  3.70116937e-06],\u001b[0m\n\u001b[1;37m                                       ^\u001b[0m\n\u001b[1;31mSyntaxError\u001b[0m\u001b[1;31m:\u001b[0m unexpected EOF while parsing\n"
     ]
    }
   ],
   "source": [
    "# Load in a SHAP loader to load in a collection of pre-calculated SHAPs\n",
    "# for the CnC and ERM models.\n",
    "from utils import load_shap_values as lsv\n",
    "\n",
    "cncSHAP = lsv.SHAPLoader('data/cnc_shap_values.txt', 'data/cnc_shap_data.txt')\n",
    "ermSHAP = lsv.SHAPLoader('data/erm_shap_values.txt', 'data/erm_shap_data.txt')"
   ]
  },
  {
   "cell_type": "code",
   "execution_count": null,
   "id": "09b77878",
   "metadata": {},
   "outputs": [],
   "source": []
  }
 ],
 "metadata": {
  "kernelspec": {
   "display_name": "Python 3 (ipykernel)",
   "language": "python",
   "name": "python3"
  },
  "language_info": {
   "codemirror_mode": {
    "name": "ipython",
    "version": 3
   },
   "file_extension": ".py",
   "mimetype": "text/x-python",
   "name": "python",
   "nbconvert_exporter": "python",
   "pygments_lexer": "ipython3",
   "version": "3.9.7"
  }
 },
 "nbformat": 4,
 "nbformat_minor": 5
}
